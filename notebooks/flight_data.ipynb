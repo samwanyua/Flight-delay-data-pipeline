{
 "cells": [
  {
   "cell_type": "code",
   "execution_count": 3,
   "id": "b1dafae7",
   "metadata": {},
   "outputs": [],
   "source": [
    "from pyspark.sql import SparkSession\n",
    "from pyspark.sql.functions import col, count, sum as spark_sum, mean, min, max\n"
   ]
  },
  {
   "cell_type": "code",
   "execution_count": 2,
   "id": "57ec665e",
   "metadata": {},
   "outputs": [
    {
     "name": "stderr",
     "output_type": "stream",
     "text": [
      "25/10/01 13:25:04 WARN Utils: Your hostname, mac resolves to a loopback address: 127.0.1.1; using 192.168.100.5 instead (on interface wlo1)\n",
      "25/10/01 13:25:04 WARN Utils: Set SPARK_LOCAL_IP if you need to bind to another address\n",
      "Setting default log level to \"WARN\".\n",
      "To adjust logging level use sc.setLogLevel(newLevel). For SparkR, use setLogLevel(newLevel).\n",
      "25/10/01 13:25:04 WARN NativeCodeLoader: Unable to load native-hadoop library for your platform... using builtin-java classes where applicable\n"
     ]
    },
    {
     "name": "stderr",
     "output_type": "stream",
     "text": [
      "25/10/01 13:25:22 WARN GarbageCollectionMetrics: To enable non-built-in garbage collector(s) List(G1 Concurrent GC), users should configure it(them) to spark.eventLog.gcMetrics.youngGenerationGarbageCollectors or spark.eventLog.gcMetrics.oldGenerationGarbageCollectors\n"
     ]
    }
   ],
   "source": [
    "spark = SparkSession.builder.appName(\"FlightData\").getOrCreate()"
   ]
  },
  {
   "cell_type": "code",
   "execution_count": 4,
   "id": "29bd4535",
   "metadata": {},
   "outputs": [
    {
     "name": "stderr",
     "output_type": "stream",
     "text": [
      "25/10/01 13:26:49 WARN SparkStringUtils: Truncated the string representation of a plan since it was too large. This behavior can be adjusted by setting 'spark.sql.debug.maxToStringFields'.\n",
      "                                                                                \r"
     ]
    },
    {
     "name": "stdout",
     "output_type": "stream",
     "text": [
      "+----+-------+-----+----------+---------+----------+-------------------------+---------------------------------------+------------------------+---------------------------+-------------------------------+---------------------------------------+----------------------------------------------+-------------------------------------------------+--------------------------------------------------+------------------+------------------------+---------------------------+-----------+-------------------------------+---------------+------------------+------------------+------+--------------+-----------+---------------+---------------+---------+-------------+----------------+----------------+----+--------------+---------+-------------+-------------+-------+----------+-------+--------+---------------+--------+--------------------+----------+-------+---------+--------+------+----------+-------+--------+---------------+--------+------------------+----------+---------+----------------+--------+--------------+-----------------+-------+-------+--------+-------------+------------+------------+--------+-------------+-----------------+------------+-------------+---------------+------------------+--------------+--------------------+-----------+-----------+-----------+-------------+----------------+------------+--------------+----------------+-------------+-----------+-----------+-------------+----------------+------------+--------------+----------------+-------------+-----------+-----------+-------------+----------------+------------+--------------+----------------+-------------+-----------+-----------+-------------+----------------+------------+--------------+----------------+-------------+-----------+-----------+-------------+----------------+------------+--------------+----------------+-------------+-----------+---------+------------+\n",
      "|Year|Quarter|Month|DayofMonth|DayOfWeek|FlightDate|Marketing_Airline_Network|Operated_or_Branded_Code_Share_Partners|DOT_ID_Marketing_Airline|IATA_Code_Marketing_Airline|Flight_Number_Marketing_Airline|Originally_Scheduled_Code_Share_Airline|DOT_ID_Originally_Scheduled_Code_Share_Airline|IATA_Code_Originally_Scheduled_Code_Share_Airline|Flight_Num_Originally_Scheduled_Code_Share_Airline|Operating_Airline |DOT_ID_Operating_Airline|IATA_Code_Operating_Airline|Tail_Number|Flight_Number_Operating_Airline|OriginAirportID|OriginAirportSeqID|OriginCityMarketID|Origin|OriginCityName|OriginState|OriginStateFips|OriginStateName|OriginWac|DestAirportID|DestAirportSeqID|DestCityMarketID|Dest|  DestCityName|DestState|DestStateFips|DestStateName|DestWac|CRSDepTime|DepTime|DepDelay|DepDelayMinutes|DepDel15|DepartureDelayGroups|DepTimeBlk|TaxiOut|WheelsOff|WheelsOn|TaxiIn|CRSArrTime|ArrTime|ArrDelay|ArrDelayMinutes|ArrDel15|ArrivalDelayGroups|ArrTimeBlk|Cancelled|CancellationCode|Diverted|CRSElapsedTime|ActualElapsedTime|AirTime|Flights|Distance|DistanceGroup|CarrierDelay|WeatherDelay|NASDelay|SecurityDelay|LateAircraftDelay|FirstDepTime|TotalAddGTime|LongestAddGTime|DivAirportLandings|DivReachedDest|DivActualElapsedTime|DivArrDelay|DivDistance|Div1Airport|Div1AirportID|Div1AirportSeqID|Div1WheelsOn|Div1TotalGTime|Div1LongestGTime|Div1WheelsOff|Div1TailNum|Div2Airport|Div2AirportID|Div2AirportSeqID|Div2WheelsOn|Div2TotalGTime|Div2LongestGTime|Div2WheelsOff|Div2TailNum|Div3Airport|Div3AirportID|Div3AirportSeqID|Div3WheelsOn|Div3TotalGTime|Div3LongestGTime|Div3WheelsOff|Div3TailNum|Div4Airport|Div4AirportID|Div4AirportSeqID|Div4WheelsOn|Div4TotalGTime|Div4LongestGTime|Div4WheelsOff|Div4TailNum|Div5Airport|Div5AirportID|Div5AirportSeqID|Div5WheelsOn|Div5TotalGTime|Div5LongestGTime|Div5WheelsOff|Div5TailNum|Duplicate|Unnamed: 119|\n",
      "+----+-------+-----+----------+---------+----------+-------------------------+---------------------------------------+------------------------+---------------------------+-------------------------------+---------------------------------------+----------------------------------------------+-------------------------------------------------+--------------------------------------------------+------------------+------------------------+---------------------------+-----------+-------------------------------+---------------+------------------+------------------+------+--------------+-----------+---------------+---------------+---------+-------------+----------------+----------------+----+--------------+---------+-------------+-------------+-------+----------+-------+--------+---------------+--------+--------------------+----------+-------+---------+--------+------+----------+-------+--------+---------------+--------+------------------+----------+---------+----------------+--------+--------------+-----------------+-------+-------+--------+-------------+------------+------------+--------+-------------+-----------------+------------+-------------+---------------+------------------+--------------+--------------------+-----------+-----------+-----------+-------------+----------------+------------+--------------+----------------+-------------+-----------+-----------+-------------+----------------+------------+--------------+----------------+-------------+-----------+-----------+-------------+----------------+------------+--------------+----------------+-------------+-----------+-----------+-------------+----------------+------------+--------------+----------------+-------------+-----------+-----------+-------------+----------------+------------+--------------+----------------+-------------+-----------+---------+------------+\n",
      "|2024|      1|    1|        14|        7|2024-01-14|                       UA|                           UA_CODESHARE|                   19977|                         UA|                           4432|                                   NULL|                                          NULL|                                             NULL|                                              NULL|                G7|                   20500|                         G7|     N535GJ|                           4432|          13296|           1329605|             30721|   MHT|Manchester, NH|         NH|             33|  New Hampshire|       14|        11618|         1161802|           31703| EWR|    Newark, NJ|       NJ|           34|   New Jersey|     21|      1738| 1849.0|    71.0|           71.0|     1.0|                 4.0| 1700-1759|   24.0|   1913.0|  2001.0|   6.0|      1922| 2007.0|    45.0|           45.0|     1.0|               3.0| 1900-1959|      0.0|            NULL|     0.0|         104.0|             78.0|   48.0|    1.0|   209.0|            1|         0.0|         0.0|     0.0|          0.0|             45.0|        NULL|         NULL|           NULL|                 0|          NULL|                NULL|       NULL|       NULL|       NULL|         NULL|            NULL|        NULL|          NULL|            NULL|         NULL|       NULL|       NULL|         NULL|            NULL|        NULL|          NULL|            NULL|         NULL|       NULL|       NULL|         NULL|            NULL|        NULL|          NULL|            NULL|         NULL|       NULL|       NULL|         NULL|            NULL|        NULL|          NULL|            NULL|         NULL|       NULL|       NULL|         NULL|            NULL|        NULL|          NULL|            NULL|         NULL|       NULL|        N|        NULL|\n",
      "|2024|      1|    1|        14|        7|2024-01-14|                       UA|                           UA_CODESHARE|                   19977|                         UA|                           4430|                                   NULL|                                          NULL|                                             NULL|                                              NULL|                G7|                   20500|                         G7|     N535GJ|                           4430|          12264|           1226402|             30852|   IAD|Washington, DC|         VA|             51|       Virginia|       38|        11618|         1161802|           31703| EWR|    Newark, NJ|       NJ|           34|   New Jersey|     21|       815|  814.0|    -1.0|            0.0|     0.0|                -1.0| 0800-0859|   58.0|    912.0|   953.0|   7.0|       934| 1000.0|    26.0|           26.0|     1.0|               1.0| 0900-0959|      0.0|            NULL|     0.0|          79.0|            106.0|   41.0|    1.0|   212.0|            1|         0.0|         0.0|    26.0|          0.0|              0.0|        NULL|         NULL|           NULL|                 0|          NULL|                NULL|       NULL|       NULL|       NULL|         NULL|            NULL|        NULL|          NULL|            NULL|         NULL|       NULL|       NULL|         NULL|            NULL|        NULL|          NULL|            NULL|         NULL|       NULL|       NULL|         NULL|            NULL|        NULL|          NULL|            NULL|         NULL|       NULL|       NULL|         NULL|            NULL|        NULL|          NULL|            NULL|         NULL|       NULL|       NULL|         NULL|            NULL|        NULL|          NULL|            NULL|         NULL|       NULL|        N|        NULL|\n",
      "|2024|      1|    1|        14|        7|2024-01-14|                       UA|                           UA_CODESHARE|                   19977|                         UA|                           4429|                                   NULL|                                          NULL|                                             NULL|                                              NULL|                G7|                   20500|                         G7|     N535GJ|                           4429|          11618|           1161802|             31703|   EWR|    Newark, NJ|         NJ|             34|     New Jersey|       21|        13296|         1329605|           30721| MHT|Manchester, NH|       NH|           33|New Hampshire|     14|      1540| 1654.0|    74.0|           74.0|     1.0|                 4.0| 1500-1559|   41.0|   1735.0|  1816.0|   6.0|      1656| 1822.0|    86.0|           86.0|     1.0|               5.0| 1600-1659|      0.0|            NULL|     0.0|          76.0|             88.0|   41.0|    1.0|   209.0|            1|         0.0|        74.0|    12.0|          0.0|              0.0|        NULL|         NULL|           NULL|                 0|          NULL|                NULL|       NULL|       NULL|       NULL|         NULL|            NULL|        NULL|          NULL|            NULL|         NULL|       NULL|       NULL|         NULL|            NULL|        NULL|          NULL|            NULL|         NULL|       NULL|       NULL|         NULL|            NULL|        NULL|          NULL|            NULL|         NULL|       NULL|       NULL|         NULL|            NULL|        NULL|          NULL|            NULL|         NULL|       NULL|       NULL|         NULL|            NULL|        NULL|          NULL|            NULL|         NULL|       NULL|        N|        NULL|\n",
      "|2024|      1|    1|        14|        7|2024-01-14|                       UA|                           UA_CODESHARE|                   19977|                         UA|                           4428|                                   NULL|                                          NULL|                                             NULL|                                              NULL|                G7|                   20500|                         G7|     N547GJ|                           4428|          15016|           1501606|             31123|   STL| St. Louis, MO|         MO|             29|       Missouri|       64|        13930|         1393008|           30977| ORD|   Chicago, IL|       IL|           17|     Illinois|     41|       630|  630.0|     0.0|            0.0|     0.0|                 0.0| 0600-0659|   47.0|    717.0|   808.0|  15.0|       758|  823.0|    25.0|           25.0|     1.0|               1.0| 0700-0759|      0.0|            NULL|     0.0|          88.0|            113.0|   51.0|    1.0|   258.0|            2|         0.0|         0.0|    25.0|          0.0|              0.0|        NULL|         NULL|           NULL|                 0|          NULL|                NULL|       NULL|       NULL|       NULL|         NULL|            NULL|        NULL|          NULL|            NULL|         NULL|       NULL|       NULL|         NULL|            NULL|        NULL|          NULL|            NULL|         NULL|       NULL|       NULL|         NULL|            NULL|        NULL|          NULL|            NULL|         NULL|       NULL|       NULL|         NULL|            NULL|        NULL|          NULL|            NULL|         NULL|       NULL|       NULL|         NULL|            NULL|        NULL|          NULL|            NULL|         NULL|       NULL|        N|        NULL|\n",
      "|2024|      1|    1|        14|        7|2024-01-14|                       UA|                           UA_CODESHARE|                   19977|                         UA|                           4427|                                   NULL|                                          NULL|                                             NULL|                                              NULL|                G7|                   20500|                         G7|     N504GJ|                           4427|          15016|           1501606|             31123|   STL| St. Louis, MO|         MO|             29|       Missouri|       64|        12264|         1226402|           30852| IAD|Washington, DC|       VA|           51|     Virginia|     38|      1300| 1333.0|    33.0|           33.0|     1.0|                 2.0| 1300-1359|   12.0|   1345.0|  1608.0|  13.0|      1603| 1621.0|    18.0|           18.0|     1.0|               1.0| 1600-1659|      0.0|            NULL|     0.0|         123.0|            108.0|   83.0|    1.0|   696.0|            3|        18.0|         0.0|     0.0|          0.0|              0.0|        NULL|         NULL|           NULL|                 0|          NULL|                NULL|       NULL|       NULL|       NULL|         NULL|            NULL|        NULL|          NULL|            NULL|         NULL|       NULL|       NULL|         NULL|            NULL|        NULL|          NULL|            NULL|         NULL|       NULL|       NULL|         NULL|            NULL|        NULL|          NULL|            NULL|         NULL|       NULL|       NULL|         NULL|            NULL|        NULL|          NULL|            NULL|         NULL|       NULL|       NULL|         NULL|            NULL|        NULL|          NULL|            NULL|         NULL|       NULL|        N|        NULL|\n",
      "+----+-------+-----+----------+---------+----------+-------------------------+---------------------------------------+------------------------+---------------------------+-------------------------------+---------------------------------------+----------------------------------------------+-------------------------------------------------+--------------------------------------------------+------------------+------------------------+---------------------------+-----------+-------------------------------+---------------+------------------+------------------+------+--------------+-----------+---------------+---------------+---------+-------------+----------------+----------------+----+--------------+---------+-------------+-------------+-------+----------+-------+--------+---------------+--------+--------------------+----------+-------+---------+--------+------+----------+-------+--------+---------------+--------+------------------+----------+---------+----------------+--------+--------------+-----------------+-------+-------+--------+-------------+------------+------------+--------+-------------+-----------------+------------+-------------+---------------+------------------+--------------+--------------------+-----------+-----------+-----------+-------------+----------------+------------+--------------+----------------+-------------+-----------+-----------+-------------+----------------+------------+--------------+----------------+-------------+-----------+-----------+-------------+----------------+------------+--------------+----------------+-------------+-----------+-----------+-------------+----------------+------------+--------------+----------------+-------------+-----------+-----------+-------------+----------------+------------+--------------+----------------+-------------+-----------+---------+------------+\n",
      "only showing top 5 rows\n",
      "\n"
     ]
    }
   ],
   "source": [
    "#load data\n",
    "df = spark.read.parquet(\"../data/raw/flight_data.parquet\")\n",
    "df.show(5)"
   ]
  },
  {
   "cell_type": "code",
   "execution_count": 5,
   "id": "f4467fc9",
   "metadata": {},
   "outputs": [
    {
     "name": "stdout",
     "output_type": "stream",
     "text": [
      "root\n",
      " |-- Year: long (nullable = true)\n",
      " |-- Quarter: long (nullable = true)\n",
      " |-- Month: long (nullable = true)\n",
      " |-- DayofMonth: long (nullable = true)\n",
      " |-- DayOfWeek: long (nullable = true)\n",
      " |-- FlightDate: string (nullable = true)\n",
      " |-- Marketing_Airline_Network: string (nullable = true)\n",
      " |-- Operated_or_Branded_Code_Share_Partners: string (nullable = true)\n",
      " |-- DOT_ID_Marketing_Airline: long (nullable = true)\n",
      " |-- IATA_Code_Marketing_Airline: string (nullable = true)\n",
      " |-- Flight_Number_Marketing_Airline: long (nullable = true)\n",
      " |-- Originally_Scheduled_Code_Share_Airline: string (nullable = true)\n",
      " |-- DOT_ID_Originally_Scheduled_Code_Share_Airline: double (nullable = true)\n",
      " |-- IATA_Code_Originally_Scheduled_Code_Share_Airline: string (nullable = true)\n",
      " |-- Flight_Num_Originally_Scheduled_Code_Share_Airline: double (nullable = true)\n",
      " |-- Operating_Airline : string (nullable = true)\n",
      " |-- DOT_ID_Operating_Airline: long (nullable = true)\n",
      " |-- IATA_Code_Operating_Airline: string (nullable = true)\n",
      " |-- Tail_Number: string (nullable = true)\n",
      " |-- Flight_Number_Operating_Airline: long (nullable = true)\n",
      " |-- OriginAirportID: long (nullable = true)\n",
      " |-- OriginAirportSeqID: long (nullable = true)\n",
      " |-- OriginCityMarketID: long (nullable = true)\n",
      " |-- Origin: string (nullable = true)\n",
      " |-- OriginCityName: string (nullable = true)\n",
      " |-- OriginState: string (nullable = true)\n",
      " |-- OriginStateFips: long (nullable = true)\n",
      " |-- OriginStateName: string (nullable = true)\n",
      " |-- OriginWac: long (nullable = true)\n",
      " |-- DestAirportID: long (nullable = true)\n",
      " |-- DestAirportSeqID: long (nullable = true)\n",
      " |-- DestCityMarketID: long (nullable = true)\n",
      " |-- Dest: string (nullable = true)\n",
      " |-- DestCityName: string (nullable = true)\n",
      " |-- DestState: string (nullable = true)\n",
      " |-- DestStateFips: long (nullable = true)\n",
      " |-- DestStateName: string (nullable = true)\n",
      " |-- DestWac: long (nullable = true)\n",
      " |-- CRSDepTime: long (nullable = true)\n",
      " |-- DepTime: double (nullable = true)\n",
      " |-- DepDelay: double (nullable = true)\n",
      " |-- DepDelayMinutes: double (nullable = true)\n",
      " |-- DepDel15: double (nullable = true)\n",
      " |-- DepartureDelayGroups: double (nullable = true)\n",
      " |-- DepTimeBlk: string (nullable = true)\n",
      " |-- TaxiOut: double (nullable = true)\n",
      " |-- WheelsOff: double (nullable = true)\n",
      " |-- WheelsOn: double (nullable = true)\n",
      " |-- TaxiIn: double (nullable = true)\n",
      " |-- CRSArrTime: long (nullable = true)\n",
      " |-- ArrTime: double (nullable = true)\n",
      " |-- ArrDelay: double (nullable = true)\n",
      " |-- ArrDelayMinutes: double (nullable = true)\n",
      " |-- ArrDel15: double (nullable = true)\n",
      " |-- ArrivalDelayGroups: double (nullable = true)\n",
      " |-- ArrTimeBlk: string (nullable = true)\n",
      " |-- Cancelled: double (nullable = true)\n",
      " |-- CancellationCode: string (nullable = true)\n",
      " |-- Diverted: double (nullable = true)\n",
      " |-- CRSElapsedTime: double (nullable = true)\n",
      " |-- ActualElapsedTime: double (nullable = true)\n",
      " |-- AirTime: double (nullable = true)\n",
      " |-- Flights: double (nullable = true)\n",
      " |-- Distance: double (nullable = true)\n",
      " |-- DistanceGroup: long (nullable = true)\n",
      " |-- CarrierDelay: double (nullable = true)\n",
      " |-- WeatherDelay: double (nullable = true)\n",
      " |-- NASDelay: double (nullable = true)\n",
      " |-- SecurityDelay: double (nullable = true)\n",
      " |-- LateAircraftDelay: double (nullable = true)\n",
      " |-- FirstDepTime: double (nullable = true)\n",
      " |-- TotalAddGTime: double (nullable = true)\n",
      " |-- LongestAddGTime: double (nullable = true)\n",
      " |-- DivAirportLandings: long (nullable = true)\n",
      " |-- DivReachedDest: double (nullable = true)\n",
      " |-- DivActualElapsedTime: double (nullable = true)\n",
      " |-- DivArrDelay: double (nullable = true)\n",
      " |-- DivDistance: double (nullable = true)\n",
      " |-- Div1Airport: string (nullable = true)\n",
      " |-- Div1AirportID: double (nullable = true)\n",
      " |-- Div1AirportSeqID: double (nullable = true)\n",
      " |-- Div1WheelsOn: double (nullable = true)\n",
      " |-- Div1TotalGTime: double (nullable = true)\n",
      " |-- Div1LongestGTime: double (nullable = true)\n",
      " |-- Div1WheelsOff: double (nullable = true)\n",
      " |-- Div1TailNum: string (nullable = true)\n",
      " |-- Div2Airport: string (nullable = true)\n",
      " |-- Div2AirportID: double (nullable = true)\n",
      " |-- Div2AirportSeqID: double (nullable = true)\n",
      " |-- Div2WheelsOn: double (nullable = true)\n",
      " |-- Div2TotalGTime: double (nullable = true)\n",
      " |-- Div2LongestGTime: double (nullable = true)\n",
      " |-- Div2WheelsOff: double (nullable = true)\n",
      " |-- Div2TailNum: string (nullable = true)\n",
      " |-- Div3Airport: string (nullable = true)\n",
      " |-- Div3AirportID: double (nullable = true)\n",
      " |-- Div3AirportSeqID: double (nullable = true)\n",
      " |-- Div3WheelsOn: double (nullable = true)\n",
      " |-- Div3TotalGTime: double (nullable = true)\n",
      " |-- Div3LongestGTime: double (nullable = true)\n",
      " |-- Div3WheelsOff: double (nullable = true)\n",
      " |-- Div3TailNum: string (nullable = true)\n",
      " |-- Div4Airport: double (nullable = true)\n",
      " |-- Div4AirportID: double (nullable = true)\n",
      " |-- Div4AirportSeqID: double (nullable = true)\n",
      " |-- Div4WheelsOn: double (nullable = true)\n",
      " |-- Div4TotalGTime: double (nullable = true)\n",
      " |-- Div4LongestGTime: double (nullable = true)\n",
      " |-- Div4WheelsOff: double (nullable = true)\n",
      " |-- Div4TailNum: double (nullable = true)\n",
      " |-- Div5Airport: double (nullable = true)\n",
      " |-- Div5AirportID: double (nullable = true)\n",
      " |-- Div5AirportSeqID: double (nullable = true)\n",
      " |-- Div5WheelsOn: double (nullable = true)\n",
      " |-- Div5TotalGTime: double (nullable = true)\n",
      " |-- Div5LongestGTime: double (nullable = true)\n",
      " |-- Div5WheelsOff: double (nullable = true)\n",
      " |-- Div5TailNum: double (nullable = true)\n",
      " |-- Duplicate: string (nullable = true)\n",
      " |-- Unnamed: 119: double (nullable = true)\n",
      "\n"
     ]
    }
   ],
   "source": [
    "df.printSchema()"
   ]
  },
  {
   "cell_type": "code",
   "execution_count": 6,
   "id": "cf50e65d",
   "metadata": {},
   "outputs": [
    {
     "name": "stdout",
     "output_type": "stream",
     "text": [
      "Row count: 582425\n",
      "Column count: 120\n"
     ]
    }
   ],
   "source": [
    "print(f\"Row count: {df.count()}\")\n",
    "print(f\"Column count: {len(df.columns)}\")"
   ]
  },
  {
   "cell_type": "code",
   "execution_count": 7,
   "id": "4325d4ad",
   "metadata": {},
   "outputs": [
    {
     "name": "stdout",
     "output_type": "stream",
     "text": [
      "- Year\n",
      "- Quarter\n",
      "- Month\n",
      "- DayofMonth\n",
      "- DayOfWeek\n",
      "- FlightDate\n",
      "- Marketing_Airline_Network\n",
      "- Operated_or_Branded_Code_Share_Partners\n",
      "- DOT_ID_Marketing_Airline\n",
      "- IATA_Code_Marketing_Airline\n",
      "- Flight_Number_Marketing_Airline\n",
      "- Originally_Scheduled_Code_Share_Airline\n",
      "- DOT_ID_Originally_Scheduled_Code_Share_Airline\n",
      "- IATA_Code_Originally_Scheduled_Code_Share_Airline\n",
      "- Flight_Num_Originally_Scheduled_Code_Share_Airline\n",
      "- Operating_Airline \n",
      "- DOT_ID_Operating_Airline\n",
      "- IATA_Code_Operating_Airline\n",
      "- Tail_Number\n",
      "- Flight_Number_Operating_Airline\n",
      "- OriginAirportID\n",
      "- OriginAirportSeqID\n",
      "- OriginCityMarketID\n",
      "- Origin\n",
      "- OriginCityName\n",
      "- OriginState\n",
      "- OriginStateFips\n",
      "- OriginStateName\n",
      "- OriginWac\n",
      "- DestAirportID\n",
      "- DestAirportSeqID\n",
      "- DestCityMarketID\n",
      "- Dest\n",
      "- DestCityName\n",
      "- DestState\n",
      "- DestStateFips\n",
      "- DestStateName\n",
      "- DestWac\n",
      "- CRSDepTime\n",
      "- DepTime\n",
      "- DepDelay\n",
      "- DepDelayMinutes\n",
      "- DepDel15\n",
      "- DepartureDelayGroups\n",
      "- DepTimeBlk\n",
      "- TaxiOut\n",
      "- WheelsOff\n",
      "- WheelsOn\n",
      "- TaxiIn\n",
      "- CRSArrTime\n",
      "- ArrTime\n",
      "- ArrDelay\n",
      "- ArrDelayMinutes\n",
      "- ArrDel15\n",
      "- ArrivalDelayGroups\n",
      "- ArrTimeBlk\n",
      "- Cancelled\n",
      "- CancellationCode\n",
      "- Diverted\n",
      "- CRSElapsedTime\n",
      "- ActualElapsedTime\n",
      "- AirTime\n",
      "- Flights\n",
      "- Distance\n",
      "- DistanceGroup\n",
      "- CarrierDelay\n",
      "- WeatherDelay\n",
      "- NASDelay\n",
      "- SecurityDelay\n",
      "- LateAircraftDelay\n",
      "- FirstDepTime\n",
      "- TotalAddGTime\n",
      "- LongestAddGTime\n",
      "- DivAirportLandings\n",
      "- DivReachedDest\n",
      "- DivActualElapsedTime\n",
      "- DivArrDelay\n",
      "- DivDistance\n",
      "- Div1Airport\n",
      "- Div1AirportID\n",
      "- Div1AirportSeqID\n",
      "- Div1WheelsOn\n",
      "- Div1TotalGTime\n",
      "- Div1LongestGTime\n",
      "- Div1WheelsOff\n",
      "- Div1TailNum\n",
      "- Div2Airport\n",
      "- Div2AirportID\n",
      "- Div2AirportSeqID\n",
      "- Div2WheelsOn\n",
      "- Div2TotalGTime\n",
      "- Div2LongestGTime\n",
      "- Div2WheelsOff\n",
      "- Div2TailNum\n",
      "- Div3Airport\n",
      "- Div3AirportID\n",
      "- Div3AirportSeqID\n",
      "- Div3WheelsOn\n",
      "- Div3TotalGTime\n",
      "- Div3LongestGTime\n",
      "- Div3WheelsOff\n",
      "- Div3TailNum\n",
      "- Div4Airport\n",
      "- Div4AirportID\n",
      "- Div4AirportSeqID\n",
      "- Div4WheelsOn\n",
      "- Div4TotalGTime\n",
      "- Div4LongestGTime\n",
      "- Div4WheelsOff\n",
      "- Div4TailNum\n",
      "- Div5Airport\n",
      "- Div5AirportID\n",
      "- Div5AirportSeqID\n",
      "- Div5WheelsOn\n",
      "- Div5TotalGTime\n",
      "- Div5LongestGTime\n",
      "- Div5WheelsOff\n",
      "- Div5TailNum\n",
      "- Duplicate\n",
      "- Unnamed: 119\n"
     ]
    }
   ],
   "source": [
    "# print columns\n",
    "for c in df.columns:\n",
    "    print(\"-\", c)"
   ]
  },
  {
   "cell_type": "code",
   "execution_count": 8,
   "id": "0190c1a9",
   "metadata": {},
   "outputs": [
    {
     "name": "stderr",
     "output_type": "stream",
     "text": [
      "[Stage 6:============================================>              (3 + 1) / 4]\r"
     ]
    },
    {
     "name": "stdout",
     "output_type": "stream",
     "text": [
      "+----+-------+-----+----------+---------+----------+-------------------------+---------------------------------------+------------------------+---------------------------+-------------------------------+---------------------------------------+----------------------------------------------+-------------------------------------------------+--------------------------------------------------+------------------+------------------------+---------------------------+-----------+-------------------------------+---------------+------------------+------------------+------+--------------+-----------+---------------+---------------+---------+-------------+----------------+----------------+----+------------+---------+-------------+-------------+-------+----------+-------+--------+---------------+--------+--------------------+----------+-------+---------+--------+------+----------+-------+--------+---------------+--------+------------------+----------+---------+----------------+--------+--------------+-----------------+-------+-------+--------+-------------+------------+------------+--------+-------------+-----------------+------------+-------------+---------------+------------------+--------------+--------------------+-----------+-----------+-----------+-------------+----------------+------------+--------------+----------------+-------------+-----------+-----------+-------------+----------------+------------+--------------+----------------+-------------+-----------+-----------+-------------+----------------+------------+--------------+----------------+-------------+-----------+-----------+-------------+----------------+------------+--------------+----------------+-------------+-----------+-----------+-------------+----------------+------------+--------------+----------------+-------------+-----------+---------+------------+\n",
      "|Year|Quarter|Month|DayofMonth|DayOfWeek|FlightDate|Marketing_Airline_Network|Operated_or_Branded_Code_Share_Partners|DOT_ID_Marketing_Airline|IATA_Code_Marketing_Airline|Flight_Number_Marketing_Airline|Originally_Scheduled_Code_Share_Airline|DOT_ID_Originally_Scheduled_Code_Share_Airline|IATA_Code_Originally_Scheduled_Code_Share_Airline|Flight_Num_Originally_Scheduled_Code_Share_Airline|Operating_Airline |DOT_ID_Operating_Airline|IATA_Code_Operating_Airline|Tail_Number|Flight_Number_Operating_Airline|OriginAirportID|OriginAirportSeqID|OriginCityMarketID|Origin|OriginCityName|OriginState|OriginStateFips|OriginStateName|OriginWac|DestAirportID|DestAirportSeqID|DestCityMarketID|Dest|DestCityName|DestState|DestStateFips|DestStateName|DestWac|CRSDepTime|DepTime|DepDelay|DepDelayMinutes|DepDel15|DepartureDelayGroups|DepTimeBlk|TaxiOut|WheelsOff|WheelsOn|TaxiIn|CRSArrTime|ArrTime|ArrDelay|ArrDelayMinutes|ArrDel15|ArrivalDelayGroups|ArrTimeBlk|Cancelled|CancellationCode|Diverted|CRSElapsedTime|ActualElapsedTime|AirTime|Flights|Distance|DistanceGroup|CarrierDelay|WeatherDelay|NASDelay|SecurityDelay|LateAircraftDelay|FirstDepTime|TotalAddGTime|LongestAddGTime|DivAirportLandings|DivReachedDest|DivActualElapsedTime|DivArrDelay|DivDistance|Div1Airport|Div1AirportID|Div1AirportSeqID|Div1WheelsOn|Div1TotalGTime|Div1LongestGTime|Div1WheelsOff|Div1TailNum|Div2Airport|Div2AirportID|Div2AirportSeqID|Div2WheelsOn|Div2TotalGTime|Div2LongestGTime|Div2WheelsOff|Div2TailNum|Div3Airport|Div3AirportID|Div3AirportSeqID|Div3WheelsOn|Div3TotalGTime|Div3LongestGTime|Div3WheelsOff|Div3TailNum|Div4Airport|Div4AirportID|Div4AirportSeqID|Div4WheelsOn|Div4TotalGTime|Div4LongestGTime|Div4WheelsOff|Div4TailNum|Div5Airport|Div5AirportID|Div5AirportSeqID|Div5WheelsOn|Div5TotalGTime|Div5LongestGTime|Div5WheelsOff|Div5TailNum|Duplicate|Unnamed: 119|\n",
      "+----+-------+-----+----------+---------+----------+-------------------------+---------------------------------------+------------------------+---------------------------+-------------------------------+---------------------------------------+----------------------------------------------+-------------------------------------------------+--------------------------------------------------+------------------+------------------------+---------------------------+-----------+-------------------------------+---------------+------------------+------------------+------+--------------+-----------+---------------+---------------+---------+-------------+----------------+----------------+----+------------+---------+-------------+-------------+-------+----------+-------+--------+---------------+--------+--------------------+----------+-------+---------+--------+------+----------+-------+--------+---------------+--------+------------------+----------+---------+----------------+--------+--------------+-----------------+-------+-------+--------+-------------+------------+------------+--------+-------------+-----------------+------------+-------------+---------------+------------------+--------------+--------------------+-----------+-----------+-----------+-------------+----------------+------------+--------------+----------------+-------------+-----------+-----------+-------------+----------------+------------+--------------+----------------+-------------+-----------+-----------+-------------+----------------+------------+--------------+----------------+-------------+-----------+-----------+-------------+----------------+------------+--------------+----------------+-------------+-----------+-----------+-------------+----------------+------------+--------------+----------------+-------------+-----------+---------+------------+\n",
      "|0   |0      |0    |0         |0        |0         |0                        |0                                      |0                       |0                          |0                              |582371                                 |582371                                        |582371                                           |582371                                            |0                 |0                       |0                          |6276       |0                              |0              |0                 |0                 |0     |0             |0          |0              |0              |0        |0            |0               |0               |0   |0           |0        |0            |0            |0      |0         |21396  |21470   |21470          |21470   |21470               |0         |21910  |21910    |22332   |22332 |0         |22331  |23710   |23710          |23710   |23710             |0         |0        |560352          |0       |0             |23710            |23710  |0      |0       |0            |447850      |447850      |447850  |447850       |447850           |577300      |577300       |577300         |0                 |580788        |581046              |581046     |580788     |580624     |580624       |580624          |580624      |580624        |580624          |581025       |581025     |582384     |582384       |582384          |582384      |582384        |582384          |582403       |582403     |582424     |582424       |582424          |582424      |582424        |582424          |582424       |582424     |582425     |582425       |582425          |582425      |582425        |582425          |582425       |582425     |582425     |582425       |582425          |582425      |582425        |582425          |582425       |582425     |0        |582425      |\n",
      "+----+-------+-----+----------+---------+----------+-------------------------+---------------------------------------+------------------------+---------------------------+-------------------------------+---------------------------------------+----------------------------------------------+-------------------------------------------------+--------------------------------------------------+------------------+------------------------+---------------------------+-----------+-------------------------------+---------------+------------------+------------------+------+--------------+-----------+---------------+---------------+---------+-------------+----------------+----------------+----+------------+---------+-------------+-------------+-------+----------+-------+--------+---------------+--------+--------------------+----------+-------+---------+--------+------+----------+-------+--------+---------------+--------+------------------+----------+---------+----------------+--------+--------------+-----------------+-------+-------+--------+-------------+------------+------------+--------+-------------+-----------------+------------+-------------+---------------+------------------+--------------+--------------------+-----------+-----------+-----------+-------------+----------------+------------+--------------+----------------+-------------+-----------+-----------+-------------+----------------+------------+--------------+----------------+-------------+-----------+-----------+-------------+----------------+------------+--------------+----------------+-------------+-----------+-----------+-------------+----------------+------------+--------------+----------------+-------------+-----------+-----------+-------------+----------------+------------+--------------+----------------+-------------+-----------+---------+------------+\n",
      "\n"
     ]
    },
    {
     "name": "stderr",
     "output_type": "stream",
     "text": [
      "                                                                                \r"
     ]
    }
   ],
   "source": [
    "# check for null\n",
    "null_counts = df.select([\n",
    "    spark_sum(col(c).isNull().cast(\"int\")).alias(c) for c in df.columns\n",
    "])\n",
    "null_counts.show(truncate=False)"
   ]
  },
  {
   "cell_type": "code",
   "execution_count": 9,
   "id": "69faac40",
   "metadata": {},
   "outputs": [
    {
     "name": "stderr",
     "output_type": "stream",
     "text": [
      "[Stage 9:============================================>              (3 + 1) / 4]\r"
     ]
    },
    {
     "name": "stdout",
     "output_type": "stream",
     "text": [
      "Columns with nulls: 75\n"
     ]
    },
    {
     "name": "stderr",
     "output_type": "stream",
     "text": [
      "                                                                                \r"
     ]
    }
   ],
   "source": [
    "nulls_dict = null_counts.first().asDict()\n",
    "\n",
    "# filter columns with > 0 nulls\n",
    "cols_with_nulls = {col: count for col, count in nulls_dict.items() if count>0}\n",
    "\n",
    "print(f\"Columns with nulls: {len(cols_with_nulls)}\")"
   ]
  },
  {
   "cell_type": "code",
   "execution_count": 15,
   "id": "a37b92eb",
   "metadata": {},
   "outputs": [
    {
     "name": "stderr",
     "output_type": "stream",
     "text": [
      "[Stage 246:==========================================>              (3 + 1) / 4]\r"
     ]
    },
    {
     "name": "stdout",
     "output_type": "stream",
     "text": [
      "+---------------------------------------+----------------------------------------------+-------------------------------------------------+--------------------------------------------------+-----------+-------+--------+---------------+--------+--------------------+-------+---------+--------+------+-------+--------+---------------+--------+------------------+----------------+-----------------+-------+------------+------------+--------+-------------+-----------------+------------+-------------+---------------+--------------+--------------------+-----------+-----------+-----------+-------------+----------------+------------+--------------+----------------+-------------+-----------+-----------+-------------+----------------+------------+--------------+----------------+-------------+-----------+-----------+-------------+----------------+------------+--------------+----------------+-------------+-----------+-----------+-------------+----------------+------------+--------------+----------------+-------------+-----------+-----------+-------------+----------------+------------+--------------+----------------+-------------+-----------+------------+\n",
      "|Originally_Scheduled_Code_Share_Airline|DOT_ID_Originally_Scheduled_Code_Share_Airline|IATA_Code_Originally_Scheduled_Code_Share_Airline|Flight_Num_Originally_Scheduled_Code_Share_Airline|Tail_Number|DepTime|DepDelay|DepDelayMinutes|DepDel15|DepartureDelayGroups|TaxiOut|WheelsOff|WheelsOn|TaxiIn|ArrTime|ArrDelay|ArrDelayMinutes|ArrDel15|ArrivalDelayGroups|CancellationCode|ActualElapsedTime|AirTime|CarrierDelay|WeatherDelay|NASDelay|SecurityDelay|LateAircraftDelay|FirstDepTime|TotalAddGTime|LongestAddGTime|DivReachedDest|DivActualElapsedTime|DivArrDelay|DivDistance|Div1Airport|Div1AirportID|Div1AirportSeqID|Div1WheelsOn|Div1TotalGTime|Div1LongestGTime|Div1WheelsOff|Div1TailNum|Div2Airport|Div2AirportID|Div2AirportSeqID|Div2WheelsOn|Div2TotalGTime|Div2LongestGTime|Div2WheelsOff|Div2TailNum|Div3Airport|Div3AirportID|Div3AirportSeqID|Div3WheelsOn|Div3TotalGTime|Div3LongestGTime|Div3WheelsOff|Div3TailNum|Div4Airport|Div4AirportID|Div4AirportSeqID|Div4WheelsOn|Div4TotalGTime|Div4LongestGTime|Div4WheelsOff|Div4TailNum|Div5Airport|Div5AirportID|Div5AirportSeqID|Div5WheelsOn|Div5TotalGTime|Div5LongestGTime|Div5WheelsOff|Div5TailNum|Unnamed: 119|\n",
      "+---------------------------------------+----------------------------------------------+-------------------------------------------------+--------------------------------------------------+-----------+-------+--------+---------------+--------+--------------------+-------+---------+--------+------+-------+--------+---------------+--------+------------------+----------------+-----------------+-------+------------+------------+--------+-------------+-----------------+------------+-------------+---------------+--------------+--------------------+-----------+-----------+-----------+-------------+----------------+------------+--------------+----------------+-------------+-----------+-----------+-------------+----------------+------------+--------------+----------------+-------------+-----------+-----------+-------------+----------------+------------+--------------+----------------+-------------+-----------+-----------+-------------+----------------+------------+--------------+----------------+-------------+-----------+-----------+-------------+----------------+------------+--------------+----------------+-------------+-----------+------------+\n",
      "|582371                                 |582371                                        |582371                                           |582371                                            |6276       |21396  |21470   |21470          |21470   |21470               |21910  |21910    |22332   |22332 |22331  |23710   |23710          |23710   |23710             |560352          |23710            |23710  |447850      |447850      |447850  |447850       |447850           |577300      |577300       |577300         |580788        |581046              |581046     |580788     |580624     |580624       |580624          |580624      |580624        |580624          |581025       |581025     |582384     |582384       |582384          |582384      |582384        |582384          |582403       |582403     |582424     |582424       |582424          |582424      |582424        |582424          |582424       |582424     |582425     |582425       |582425          |582425      |582425        |582425          |582425       |582425     |582425     |582425       |582425          |582425      |582425        |582425          |582425       |582425     |582425      |\n",
      "+---------------------------------------+----------------------------------------------+-------------------------------------------------+--------------------------------------------------+-----------+-------+--------+---------------+--------+--------------------+-------+---------+--------+------+-------+--------+---------------+--------+------------------+----------------+-----------------+-------+------------+------------+--------+-------------+-----------------+------------+-------------+---------------+--------------+--------------------+-----------+-----------+-----------+-------------+----------------+------------+--------------+----------------+-------------+-----------+-----------+-------------+----------------+------------+--------------+----------------+-------------+-----------+-----------+-------------+----------------+------------+--------------+----------------+-------------+-----------+-----------+-------------+----------------+------------+--------------+----------------+-------------+-----------+-----------+-------------+----------------+------------+--------------+----------------+-------------+-----------+------------+\n",
      "\n"
     ]
    },
    {
     "name": "stderr",
     "output_type": "stream",
     "text": [
      "                                                                                \r"
     ]
    }
   ],
   "source": [
    "df_nulls = null_counts.select(*cols_with_nulls)\n",
    "df_nulls.show(truncate=False)"
   ]
  },
  {
   "cell_type": "code",
   "execution_count": 16,
   "id": "8281b9c9",
   "metadata": {},
   "outputs": [
    {
     "data": {
      "text/plain": [
       "75"
      ]
     },
     "execution_count": 16,
     "metadata": {},
     "output_type": "execute_result"
    }
   ],
   "source": [
    "len(df_nulls.columns)"
   ]
  },
  {
   "cell_type": "code",
   "execution_count": 18,
   "id": "f1129d05",
   "metadata": {},
   "outputs": [
    {
     "name": "stdout",
     "output_type": "stream",
     "text": [
      "+----+-------+-----+----------+---------+----------+-------------------------+---------------------------------------+------------------------+---------------------------+-------------------------------+------------------+------------------------+---------------------------+-------------------------------+---------------+------------------+------------------+------+--------------+-----------+---------------+---------------+---------+-------------+----------------+----------------+----+--------------+---------+-------------+-------------+-------+----------+----------+----------+----------+---------+--------+--------------+-------+--------+-------------+------------------+---------+\n",
      "|Year|Quarter|Month|DayofMonth|DayOfWeek|FlightDate|Marketing_Airline_Network|Operated_or_Branded_Code_Share_Partners|DOT_ID_Marketing_Airline|IATA_Code_Marketing_Airline|Flight_Number_Marketing_Airline|Operating_Airline |DOT_ID_Operating_Airline|IATA_Code_Operating_Airline|Flight_Number_Operating_Airline|OriginAirportID|OriginAirportSeqID|OriginCityMarketID|Origin|OriginCityName|OriginState|OriginStateFips|OriginStateName|OriginWac|DestAirportID|DestAirportSeqID|DestCityMarketID|Dest|  DestCityName|DestState|DestStateFips|DestStateName|DestWac|CRSDepTime|DepTimeBlk|CRSArrTime|ArrTimeBlk|Cancelled|Diverted|CRSElapsedTime|Flights|Distance|DistanceGroup|DivAirportLandings|Duplicate|\n",
      "+----+-------+-----+----------+---------+----------+-------------------------+---------------------------------------+------------------------+---------------------------+-------------------------------+------------------+------------------------+---------------------------+-------------------------------+---------------+------------------+------------------+------+--------------+-----------+---------------+---------------+---------+-------------+----------------+----------------+----+--------------+---------+-------------+-------------+-------+----------+----------+----------+----------+---------+--------+--------------+-------+--------+-------------+------------------+---------+\n",
      "|2024|      1|    1|        14|        7|2024-01-14|                       UA|                           UA_CODESHARE|                   19977|                         UA|                           4432|                G7|                   20500|                         G7|                           4432|          13296|           1329605|             30721|   MHT|Manchester, NH|         NH|             33|  New Hampshire|       14|        11618|         1161802|           31703| EWR|    Newark, NJ|       NJ|           34|   New Jersey|     21|      1738| 1700-1759|      1922| 1900-1959|      0.0|     0.0|         104.0|    1.0|   209.0|            1|                 0|        N|\n",
      "|2024|      1|    1|        14|        7|2024-01-14|                       UA|                           UA_CODESHARE|                   19977|                         UA|                           4430|                G7|                   20500|                         G7|                           4430|          12264|           1226402|             30852|   IAD|Washington, DC|         VA|             51|       Virginia|       38|        11618|         1161802|           31703| EWR|    Newark, NJ|       NJ|           34|   New Jersey|     21|       815| 0800-0859|       934| 0900-0959|      0.0|     0.0|          79.0|    1.0|   212.0|            1|                 0|        N|\n",
      "|2024|      1|    1|        14|        7|2024-01-14|                       UA|                           UA_CODESHARE|                   19977|                         UA|                           4429|                G7|                   20500|                         G7|                           4429|          11618|           1161802|             31703|   EWR|    Newark, NJ|         NJ|             34|     New Jersey|       21|        13296|         1329605|           30721| MHT|Manchester, NH|       NH|           33|New Hampshire|     14|      1540| 1500-1559|      1656| 1600-1659|      0.0|     0.0|          76.0|    1.0|   209.0|            1|                 0|        N|\n",
      "|2024|      1|    1|        14|        7|2024-01-14|                       UA|                           UA_CODESHARE|                   19977|                         UA|                           4428|                G7|                   20500|                         G7|                           4428|          15016|           1501606|             31123|   STL| St. Louis, MO|         MO|             29|       Missouri|       64|        13930|         1393008|           30977| ORD|   Chicago, IL|       IL|           17|     Illinois|     41|       630| 0600-0659|       758| 0700-0759|      0.0|     0.0|          88.0|    1.0|   258.0|            2|                 0|        N|\n",
      "|2024|      1|    1|        14|        7|2024-01-14|                       UA|                           UA_CODESHARE|                   19977|                         UA|                           4427|                G7|                   20500|                         G7|                           4427|          15016|           1501606|             31123|   STL| St. Louis, MO|         MO|             29|       Missouri|       64|        12264|         1226402|           30852| IAD|Washington, DC|       VA|           51|     Virginia|     38|      1300| 1300-1359|      1603| 1600-1659|      0.0|     0.0|         123.0|    1.0|   696.0|            3|                 0|        N|\n",
      "+----+-------+-----+----------+---------+----------+-------------------------+---------------------------------------+------------------------+---------------------------+-------------------------------+------------------+------------------------+---------------------------+-------------------------------+---------------+------------------+------------------+------+--------------+-----------+---------------+---------------+---------+-------------+----------------+----------------+----+--------------+---------+-------------+-------------+-------+----------+----------+----------+----------+---------+--------+--------------+-------+--------+-------------+------------------+---------+\n",
      "only showing top 5 rows\n",
      "\n"
     ]
    }
   ],
   "source": [
    "# keep columns with no nulls\n",
    "cols_with_no_nulls = [c for c, cnt in nulls_dict.items() if cnt ==0]\n",
    "df_no_nulls = df.select(*cols_with_no_nulls)\n",
    "df_no_nulls.show(5)"
   ]
  },
  {
   "cell_type": "code",
   "execution_count": 19,
   "id": "6c7b7565",
   "metadata": {},
   "outputs": [
    {
     "data": {
      "text/plain": [
       "45"
      ]
     },
     "execution_count": 19,
     "metadata": {},
     "output_type": "execute_result"
    }
   ],
   "source": [
    "len(df_no_nulls.columns)"
   ]
  },
  {
   "cell_type": "code",
   "execution_count": 12,
   "id": "c0a02d09",
   "metadata": {},
   "outputs": [
    {
     "name": "stderr",
     "output_type": "stream",
     "text": [
      "[Stage 237:==========================================>              (3 + 1) / 4]\r"
     ]
    },
    {
     "name": "stdout",
     "output_type": "stream",
     "text": [
      "+-------------------------+------------------+------------------+\n",
      "|Marketing_Airline_Network|     avg(DepDelay)|     avg(ArrDelay)|\n",
      "+-------------------------+------------------+------------------+\n",
      "|                       UA|16.921039429092136|10.146746730278851|\n",
      "|                       NK|15.046109510086456| 9.684378268014541|\n",
      "|                       AA| 19.63141945439438|16.279486369855803|\n",
      "|                       B6|19.153642452879172|13.522219904026706|\n",
      "|                       DL|14.515689176526225| 7.575911260338751|\n",
      "|                       F9|18.852062184993255|14.719330722677109|\n",
      "|                       HA| 9.958526056120876|10.664710424710425|\n",
      "|                       G4|15.406684905435947|10.528209419077218|\n",
      "|                       AS|13.577607050932064| 9.952008182211557|\n",
      "|                       WN| 12.14088938547486| 6.420730560060208|\n",
      "+-------------------------+------------------+------------------+\n",
      "\n"
     ]
    },
    {
     "name": "stderr",
     "output_type": "stream",
     "text": [
      "                                                                                \r"
     ]
    },
    {
     "name": "stderr",
     "output_type": "stream",
     "text": [
      "[Stage 237:==========================================>              (3 + 1) / 4]\r"
     ]
    }
   ],
   "source": [
    "df.groupBy(\"Marketing_Airline_Network\").agg(mean(\"DepDelay\"), mean(\"ArrDelay\")).show()"
   ]
  },
  {
   "cell_type": "code",
   "execution_count": 14,
   "id": "776729a7",
   "metadata": {},
   "outputs": [
    {
     "name": "stdout",
     "output_type": "stream",
     "text": [
      "+------+----+-----+\n",
      "|Origin|Dest|count|\n",
      "+------+----+-----+\n",
      "|   OGG| HNL| 1001|\n",
      "|   HNL| OGG|  994|\n",
      "|   LAX| SFO|  858|\n",
      "|   SFO| LAX|  857|\n",
      "|   PHX| DEN|  832|\n",
      "|   DEN| PHX|  831|\n",
      "|   ATL| MCO|  792|\n",
      "|   MCO| ATL|  792|\n",
      "|   ORD| LGA|  789|\n",
      "|   LGA| ORD|  789|\n",
      "|   LAX| LAS|  783|\n",
      "|   LAS| LAX|  782|\n",
      "|   LAX| JFK|  752|\n",
      "|   JFK| LAX|  752|\n",
      "|   ATL| FLL|  732|\n",
      "|   FLL| ATL|  731|\n",
      "|   BOS| DCA|  731|\n",
      "|   DCA| BOS|  731|\n",
      "|   HNL| LIH|  730|\n",
      "|   LIH| HNL|  730|\n",
      "+------+----+-----+\n",
      "only showing top 20 rows\n",
      "\n"
     ]
    }
   ],
   "source": [
    "df.groupBy(\"Origin\", \"Dest\").count().orderBy(\"count\", ascending=False).show()"
   ]
  }
 ],
 "metadata": {
  "kernelspec": {
   "display_name": "env",
   "language": "python",
   "name": "python3"
  },
  "language_info": {
   "codemirror_mode": {
    "name": "ipython",
    "version": 3
   },
   "file_extension": ".py",
   "mimetype": "text/x-python",
   "name": "python",
   "nbconvert_exporter": "python",
   "pygments_lexer": "ipython3",
   "version": "3.11.13"
  }
 },
 "nbformat": 4,
 "nbformat_minor": 5
}
